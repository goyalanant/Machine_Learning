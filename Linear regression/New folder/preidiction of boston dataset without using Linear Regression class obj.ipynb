{
 "cells": [
  {
   "cell_type": "code",
   "execution_count": 1,
   "metadata": {},
   "outputs": [],
   "source": [
    "import pandas as pd\n",
    "from matplotlib import pyplot as plt\n",
    "from sklearn import model_selection\n",
    "from sklearn.linear_model import LinearRegression\n",
    "from sklearn import datasets\n",
    "import numpy as np\n",
    "from sklearn import preprocessing"
   ]
  },
  {
   "cell_type": "code",
   "execution_count": 3,
   "metadata": {},
   "outputs": [],
   "source": [
    "train_data=np.genfromtxt('train_boson.csv',delimiter=',')"
   ]
  },
  {
   "cell_type": "code",
   "execution_count": 4,
   "metadata": {},
   "outputs": [],
   "source": [
    "test_data=np.genfromtxt('test_boston.csv',delimiter=',')"
   ]
  },
  {
   "cell_type": "code",
   "execution_count": 5,
   "metadata": {},
   "outputs": [
    {
     "data": {
      "text/plain": [
       "(379, 14)"
      ]
     },
     "execution_count": 5,
     "metadata": {},
     "output_type": "execute_result"
    }
   ],
   "source": [
    "train_data.shape"
   ]
  },
  {
   "cell_type": "code",
   "execution_count": 6,
   "metadata": {},
   "outputs": [
    {
     "data": {
      "text/plain": [
       "(379, 13)"
      ]
     },
     "execution_count": 6,
     "metadata": {},
     "output_type": "execute_result"
    }
   ],
   "source": [
    "x_train=train_data[:,:13]\n",
    "y_train=train_data[:,-1:]\n",
    "\n",
    "x_train.shape"
   ]
  },
  {
   "cell_type": "code",
   "execution_count": 7,
   "metadata": {},
   "outputs": [],
   "source": [
    "#X_train,X_test,Y_train,Y_test=model_selection.train_test_split(x_train,y_train)"
   ]
  },
  {
   "cell_type": "code",
   "execution_count": 8,
   "metadata": {},
   "outputs": [
    {
     "name": "stdout",
     "output_type": "stream",
     "text": [
      "(379, 13)\n"
     ]
    },
    {
     "data": {
      "text/plain": [
       "(379, 52)"
      ]
     },
     "execution_count": 8,
     "metadata": {},
     "output_type": "execute_result"
    }
   ],
   "source": [
    "sq=[]\n",
    "cube=[]\n",
    "poly=[]\n",
    "\n",
    "for i in x_train:\n",
    "    sq.append(i**2)\n",
    "    cube.append(i**3)\n",
    "    \n",
    "    k=0\n",
    "    temp=[]\n",
    "    \n",
    "    while k<x_train.shape[1]:\n",
    "        temp.append(i[2]*i[k])\n",
    "        k=k+1\n",
    "        \n",
    "    poly.append(temp)\n",
    "\n",
    "\n",
    "sq=np.array(sq)\n",
    "print(sq.shape)\n",
    "cube=np.array(cube)\n",
    "poly=np.array(poly)\n",
    "\n",
    "x_train=np.append(x_train, sq, axis=1)\n",
    "x_train=np.append(x_train, cube, axis=1)\n",
    "x_train=np.append(x_train,poly,axis=1)\n",
    "x_train.shape"
   ]
  },
  {
   "cell_type": "code",
   "execution_count": 10,
   "metadata": {},
   "outputs": [
    {
     "data": {
      "text/plain": [
       "(127, 52)"
      ]
     },
     "execution_count": 10,
     "metadata": {},
     "output_type": "execute_result"
    }
   ],
   "source": [
    "sq=[]\n",
    "cube=[]\n",
    "poly=[]\n",
    "\n",
    "for i in test_data:\n",
    "    sq.append(i**2)\n",
    "    cube.append(i**3)\n",
    "    k=0\n",
    "    temp=[]\n",
    "    \n",
    "    while k<test_data.shape[1]:\n",
    "        temp.append(i[2]*i[k])\n",
    "        k=k+1\n",
    "        \n",
    "    poly.append(temp)\n",
    "\n",
    "\n",
    "sq=np.array(sq)\n",
    "cube=np.array(cube)\n",
    "poly=np.array(poly)\n",
    "\n",
    "test_data=np.append(test_data, sq, axis=1)\n",
    "test_data=np.append(test_data, cube, axis=1)\n",
    "test_data=np.append(test_data, poly, axis=1)\n",
    "test_data.shape"
   ]
  },
  {
   "cell_type": "code",
   "execution_count": 11,
   "metadata": {},
   "outputs": [],
   "source": [
    "scaler=preprocessing.StandardScaler()\n",
    "#scaler.fit(X_train)\n",
    "#scaler.transform(X_train)\n",
    "\n",
    "#scaler.transform(X_test)\n",
    "\n",
    "scaler.fit(x_train)\n",
    "x_train=scaler.transform(x_train)\n",
    "\n",
    "test_data=scaler.transform(test_data)"
   ]
  },
  {
   "cell_type": "code",
   "execution_count": 12,
   "metadata": {},
   "outputs": [
    {
     "data": {
      "text/plain": [
       "array([[-0.40098068, -0.49042688, -1.28149216, ..., -0.16019051,\n",
       "         0.82929333,  1.        ],\n",
       "       [-0.40053396, -0.49042688,  0.20753471, ...,  0.44734471,\n",
       "        -0.81952918,  1.        ],\n",
       "       [ 0.09900799, -0.49042688,  0.96425328, ..., -3.58606066,\n",
       "         0.30300015,  1.        ],\n",
       "       ...,\n",
       "       [-0.40141319, -0.49042688,  0.20753471, ...,  0.45771852,\n",
       "        -0.76952268,  1.        ],\n",
       "       [-0.40357903, -0.49042688, -1.16949207, ...,  0.13306187,\n",
       "         0.25173484,  1.        ],\n",
       "       [ 0.30324229, -0.49042688,  0.96425328, ...,  0.77809564,\n",
       "        -2.17868308,  1.        ]])"
      ]
     },
     "execution_count": 12,
     "metadata": {},
     "output_type": "execute_result"
    }
   ],
   "source": [
    "df=pd.DataFrame(x_train)\n",
    "df['13']=float(1)\n",
    "x_train=df.values\n",
    "x_train"
   ]
  },
  {
   "cell_type": "code",
   "execution_count": 13,
   "metadata": {},
   "outputs": [],
   "source": [
    "df=pd.DataFrame(test_data)\n",
    "df['13']=float(1)\n",
    "test_data=df.values"
   ]
  },
  {
   "cell_type": "code",
   "execution_count": 12,
   "metadata": {},
   "outputs": [],
   "source": [
    "#X_train.shape,X_test.shape,Y_train.shape,Y_test.shape"
   ]
  },
  {
   "cell_type": "code",
   "execution_count": 21,
   "metadata": {},
   "outputs": [],
   "source": [
    "def step_grad(x_data,y_data,learning_rate,m):\n",
    "    m_slope=np.zeros(x_data.shape[1])\n",
    "    \n",
    "    M=x_data.shape[0]\n",
    "    \n",
    "    for i in range(0,M):\n",
    "        \n",
    "        x=x_data[i]\n",
    "        y_true=y_data[i]\n",
    "        \n",
    "        N=x_data.shape[1]\n",
    "        \n",
    "        y_pred=0\n",
    "        \n",
    "        for j in range(0,N):\n",
    "            y_pred=y_pred+m[j]*x[j]\n",
    "            \n",
    "        for j in range(0,N):\n",
    "            m_slope[j]+=(-2/M)*(y_true-y_pred)*x[j]\n",
    "            \n",
    "    \n",
    "    new_m=m-learning_rate*m_slope\n",
    "    \n",
    "    return new_m\n",
    "    "
   ]
  },
  {
   "cell_type": "code",
   "execution_count": 22,
   "metadata": {},
   "outputs": [],
   "source": [
    "def cost(x_data,y_data,m):\n",
    "    total_cost=0\n",
    "    \n",
    "    M=x_data.shape[0]\n",
    "    N=x_data.shape[1]\n",
    "    \n",
    "    for i in range(0,M):\n",
    "        \n",
    "        x=x_data[i]\n",
    "        y_true=y_data[i]\n",
    "        y_pred=0 \n",
    "\n",
    "        for j in range(0,N):\n",
    "            y_pred=y_pred+m[j]*x[j]\n",
    "        \n",
    "        total_cost=total_cost+(y_true-y_pred)**2\n",
    "        \n",
    "    return total_cost/M"
   ]
  },
  {
   "cell_type": "code",
   "execution_count": 23,
   "metadata": {},
   "outputs": [],
   "source": [
    "def run(x_data,y_data):\n",
    "    num_iterations=100\n",
    "    learning_rate=0.05\n",
    "    m=np.zeros(x_data.shape[1]) \n",
    "    \n",
    "    for i in range(0,num_iterations):\n",
    "        m=step_grad(x_data,y_data,learning_rate,m)\n",
    "        \n",
    "        print(i,\"Cost: \",cost(x_data,y_data,m))\n",
    "        \n",
    "    return m"
   ]
  },
  {
   "cell_type": "code",
   "execution_count": 32,
   "metadata": {},
   "outputs": [
    {
     "name": "stdout",
     "output_type": "stream",
     "text": [
      "0 Cost:  [457.87421929]\n",
      "1 Cost:  [369.1398597]\n",
      "2 Cost:  [300.74832709]\n",
      "3 Cost:  [246.49810355]\n",
      "4 Cost:  [203.01891885]\n",
      "5 Cost:  [167.98136264]\n",
      "6 Cost:  [139.65786008]\n",
      "7 Cost:  [116.71814212]\n",
      "8 Cost:  [98.11530777]\n",
      "9 Cost:  [83.01515987]\n",
      "10 Cost:  [70.74831411]\n",
      "11 Cost:  [60.77550478]\n",
      "12 Cost:  [52.66130367]\n",
      "13 Cost:  [46.05365512]\n",
      "14 Cost:  [40.66767866]\n",
      "15 Cost:  [36.27272818]\n",
      "16 Cost:  [32.68199694]\n",
      "17 Cost:  [29.74414145]\n",
      "18 Cost:  [27.33651952]\n",
      "19 Cost:  [25.3597255]\n",
      "20 Cost:  [23.73317056]\n",
      "21 Cost:  [22.39150674]\n",
      "22 Cost:  [21.28173251]\n",
      "23 Cost:  [20.36084963]\n",
      "24 Cost:  [19.5939658]\n",
      "25 Cost:  [18.95275817]\n",
      "26 Cost:  [18.41422883]\n",
      "27 Cost:  [17.95969669]\n",
      "28 Cost:  [17.57398085]\n",
      "29 Cost:  [17.24473888]\n",
      "30 Cost:  [16.96193066]\n",
      "31 Cost:  [16.71738391]\n",
      "32 Cost:  [16.50444202]\n",
      "33 Cost:  [16.31767865]\n",
      "34 Cost:  [16.15266629]\n",
      "35 Cost:  [16.0057887]\n",
      "36 Cost:  [15.87408877]\n",
      "37 Cost:  [15.75514516]\n",
      "38 Cost:  [15.6469722]\n",
      "39 Cost:  [15.54793871]\n",
      "40 Cost:  [15.45670214]\n",
      "41 Cost:  [15.37215507]\n",
      "42 Cost:  [15.2933818]\n",
      "43 Cost:  [15.21962308]\n",
      "44 Cost:  [15.15024748]\n",
      "45 Cost:  [15.08472809]\n",
      "46 Cost:  [15.02262363]\n",
      "47 Cost:  [14.96356299]\n",
      "48 Cost:  [14.90723276]\n",
      "49 Cost:  [14.85336696]\n",
      "50 Cost:  [14.80173879]\n",
      "51 Cost:  [14.75215376]\n",
      "52 Cost:  [14.70444423]\n",
      "53 Cost:  [14.65846482]\n",
      "54 Cost:  [14.61408875]\n",
      "55 Cost:  [14.57120477]\n",
      "56 Cost:  [14.52971469]\n",
      "57 Cost:  [14.48953132]\n",
      "58 Cost:  [14.4505768]\n",
      "59 Cost:  [14.41278117]\n",
      "60 Cost:  [14.37608129]\n",
      "61 Cost:  [14.34041981]\n",
      "62 Cost:  [14.30574444]\n",
      "63 Cost:  [14.27200723]\n",
      "64 Cost:  [14.23916407]\n",
      "65 Cost:  [14.2071742]\n",
      "66 Cost:  [14.17599981]\n",
      "67 Cost:  [14.14560573]\n",
      "68 Cost:  [14.11595914]\n",
      "69 Cost:  [14.08702932]\n",
      "70 Cost:  [14.05878745]\n",
      "71 Cost:  [14.03120643]\n",
      "72 Cost:  [14.00426073]\n",
      "73 Cost:  [13.97792627]\n",
      "74 Cost:  [13.95218025]\n",
      "75 Cost:  [13.9270011]\n",
      "76 Cost:  [13.90236839]\n",
      "77 Cost:  [13.87826267]\n",
      "78 Cost:  [13.85466552]\n",
      "79 Cost:  [13.83155936]\n",
      "80 Cost:  [13.80892749]\n",
      "81 Cost:  [13.78675396]\n",
      "82 Cost:  [13.76502358]\n",
      "83 Cost:  [13.74372184]\n",
      "84 Cost:  [13.72283489]\n",
      "85 Cost:  [13.70234947]\n",
      "86 Cost:  [13.68225292]\n",
      "87 Cost:  [13.66253311]\n",
      "88 Cost:  [13.64317843]\n",
      "89 Cost:  [13.62417776]\n",
      "90 Cost:  [13.60552043]\n",
      "91 Cost:  [13.58719622]\n",
      "92 Cost:  [13.56919533]\n",
      "93 Cost:  [13.55150834]\n",
      "94 Cost:  [13.5341262]\n",
      "95 Cost:  [13.51704024]\n",
      "96 Cost:  [13.50024211]\n",
      "97 Cost:  [13.48372378]\n",
      "98 Cost:  [13.46747753]\n",
      "99 Cost:  [13.45149595]\n"
     ]
    }
   ],
   "source": [
    "#params=run(X_train,Y_train)\n",
    "parama = run(x_train,y_train)\n"
   ]
  },
  {
   "cell_type": "code",
   "execution_count": 33,
   "metadata": {},
   "outputs": [],
   "source": [
    "def predict(Sample,params):\n",
    "    y_pred=0\n",
    "    \n",
    "    for j in range(0,Sample.shape[0]):\n",
    "        y_pred=y_pred+params[j]*Sample[j]\n",
    "        \n",
    "    return y_pred"
   ]
  },
  {
   "cell_type": "code",
   "execution_count": 34,
   "metadata": {},
   "outputs": [],
   "source": [
    "def pred(data,params):\n",
    "    \n",
    "    y_final=np.zeros(data.shape[0])\n",
    "    \n",
    "    for i in range(0,data.shape[0]):\n",
    "        y_final[i]=predict(data[i],params)\n",
    "        \n",
    "    return y_final"
   ]
  },
  {
   "cell_type": "code",
   "execution_count": 35,
   "metadata": {},
   "outputs": [],
   "source": [
    "def score(y_truth,y_pred):\n",
    "    y_truth=y_truth.reshape(y_truth.shape[0])\n",
    "    u=((y_truth-y_pred)**2).sum()\n",
    "    v=((y_truth-y_truth.mean())**2).sum()\n",
    "    \n",
    "    return 1-(u/v)"
   ]
  },
  {
   "cell_type": "code",
   "execution_count": 36,
   "metadata": {},
   "outputs": [],
   "source": [
    "#score(Y_train,pred(X_train,params))"
   ]
  },
  {
   "cell_type": "code",
   "execution_count": 37,
   "metadata": {},
   "outputs": [],
   "source": [
    "#score(Y_test,pred(X_test,params))"
   ]
  },
  {
   "cell_type": "code",
   "execution_count": 40,
   "metadata": {},
   "outputs": [
    {
     "data": {
      "text/plain": [
       "0.8470253414967028"
      ]
     },
     "execution_count": 40,
     "metadata": {},
     "output_type": "execute_result"
    }
   ],
   "source": [
    "score(y_train,pred(x_train,parama))"
   ]
  },
  {
   "cell_type": "code",
   "execution_count": 41,
   "metadata": {},
   "outputs": [
    {
     "data": {
      "text/plain": [
       "array([26.14865954, 32.04622846, 23.85131873, 25.59866033, 21.70334725,\n",
       "        8.5261542 , 33.9308939 , 29.62108981, 19.56743131, 24.91802331,\n",
       "       27.87026988, 18.83451233, 21.33004213, 21.63741681, 65.82629937,\n",
       "       23.88473243, 23.6021306 , 29.32606404, 20.22733048, 35.74668562,\n",
       "       23.845597  , 29.29290433, 42.34477732, 51.92638714, 40.11474547,\n",
       "       20.70124192, 23.87561869, 35.02519313, 38.90522377, 46.90976787,\n",
       "       18.52215121, 25.56271584, 24.74894976, 26.13543167, 19.21860552,\n",
       "       29.71349391, 27.42799286, 20.78571745, 24.85480053,  4.77611037,\n",
       "       29.37020432, 27.84602597, 34.26530391, 20.19118475, 20.28047909,\n",
       "       20.83335806, 53.31892807, 26.58173226, 47.11170786, 16.53946383,\n",
       "       19.18746426, 59.5699823 , 17.29890673, 22.43052929, 18.02878337,\n",
       "       25.1004657 , 20.06987967, 24.71265377, 16.75934033, 17.52956562,\n",
       "       27.63150921, 32.88874931, 25.76263813, 28.88168855, 19.392316  ,\n",
       "       10.65040613, 43.96423348, 17.28573798, 40.23949251, 23.95866325,\n",
       "       32.1539589 , 30.17747555, 21.47011096, 22.28260551, 49.96715441,\n",
       "       27.40411281, 30.16114724, 28.80168071, 18.25602145, 47.39606641,\n",
       "       19.67021491, 23.4517906 , 23.90873599, 21.79897805, 17.02244555,\n",
       "       40.57667351, 29.15196987, 16.45268985, 21.85312651, 20.16822929,\n",
       "       21.52691105, 21.57465958, 22.28629669,  7.67716465, 21.59033026,\n",
       "       31.20501538, 59.59024054, 18.92037681, 43.98234139, 27.30200884,\n",
       "       33.4622891 , 23.17051214, 38.63299908, 34.83431981,  6.97221704,\n",
       "       26.99828908, 21.73480248, 51.37518136, 25.8433166 , 13.74037108,\n",
       "       29.6318884 , 18.01755979, 19.46243587, 24.34935511, 50.93715704,\n",
       "       16.28529846, 22.81018372, 26.3007406 , 22.03280882, 25.36710242,\n",
       "       18.13796441, 40.77315019, 23.88333303, 25.59350674, 23.15057188,\n",
       "       21.45601706, 17.05040553])"
      ]
     },
     "execution_count": 41,
     "metadata": {},
     "output_type": "execute_result"
    }
   ],
   "source": [
    "final_ans=pred(test_data,parama)\n",
    "#final_ans=np.round(final_y_pred,decimals=10)\n",
    "final_ans"
   ]
  },
  {
   "cell_type": "code",
   "execution_count": null,
   "metadata": {},
   "outputs": [],
   "source": [
    "np.savetxt('GradientDesend_test_boston_y_pred.csv',final_ans,fmt='%f')"
   ]
  },
  {
   "cell_type": "code",
   "execution_count": null,
   "metadata": {},
   "outputs": [],
   "source": [
    "np.genfromtxt('GradientDesend_test_boston_y_pred.csv',delimiter=',')"
   ]
  },
  {
   "cell_type": "code",
   "execution_count": null,
   "metadata": {},
   "outputs": [],
   "source": []
  },
  {
   "cell_type": "code",
   "execution_count": null,
   "metadata": {},
   "outputs": [],
   "source": []
  },
  {
   "cell_type": "code",
   "execution_count": null,
   "metadata": {},
   "outputs": [],
   "source": []
  }
 ],
 "metadata": {
  "kernelspec": {
   "display_name": "Python 3",
   "language": "python",
   "name": "python3"
  },
  "language_info": {
   "codemirror_mode": {
    "name": "ipython",
    "version": 3
   },
   "file_extension": ".py",
   "mimetype": "text/x-python",
   "name": "python",
   "nbconvert_exporter": "python",
   "pygments_lexer": "ipython3",
   "version": "3.8.6"
  }
 },
 "nbformat": 4,
 "nbformat_minor": 4
}
